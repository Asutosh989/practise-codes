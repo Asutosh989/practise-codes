{
 "cells": [
  {
   "cell_type": "code",
   "execution_count": 2,
   "metadata": {
    "collapsed": true
   },
   "outputs": [],
   "source": [
    "class node:\n",
    "    def __init__(self):\n",
    "        self.nodes = set()\n",
    "        self.children = dict()\n",
    "        self.parents = dict()\n",
    "        self.edges = 0"
   ]
  },
  {
   "cell_type": "code",
   "execution_count": 3,
   "metadata": {
    "collapsed": true
   },
   "outputs": [],
   "source": [
    "    def add_node(self, node):\n",
    "            self.nodes.add(node)\n",
    "            self.children[node] = dict()\n",
    "            self.parents[node] = dict()"
   ]
  },
  {
   "cell_type": "code",
   "execution_count": 4,
   "metadata": {},
   "outputs": [
    {
     "name": "stdout",
     "output_type": "stream",
     "text": [
      "1 6\n",
      "2 3\n",
      "4 5\n",
      "6 7 \n",
      "8 7 \n",
      "0\n"
     ]
    }
   ],
   "source": [
    "    n,k = map(int, input().strip().split())\n",
    "    y=[]\n",
    "    while True:\n",
    "        x = list(map(int, input().strip().split()))\n",
    "        y.append(x)\n",
    "        if(x[0]==0):\n",
    "            break"
   ]
  },
  {
   "cell_type": "code",
   "execution_count": null,
   "metadata": {
    "collapsed": true
   },
   "outputs": [],
   "source": []
  }
 ],
 "metadata": {
  "kernelspec": {
   "display_name": "Python 3",
   "language": "python",
   "name": "python3"
  },
  "language_info": {
   "codemirror_mode": {
    "name": "ipython",
    "version": 3
   },
   "file_extension": ".py",
   "mimetype": "text/x-python",
   "name": "python",
   "nbconvert_exporter": "python",
   "pygments_lexer": "ipython3",
   "version": "3.5.2"
  }
 },
 "nbformat": 4,
 "nbformat_minor": 2
}
