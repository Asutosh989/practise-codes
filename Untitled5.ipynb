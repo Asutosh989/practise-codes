{
 "cells": [
  {
   "cell_type": "code",
   "execution_count": 3,
   "metadata": {
    "collapsed": true
   },
   "outputs": [],
   "source": [
    "import numpy as np"
   ]
  },
  {
   "cell_type": "code",
   "execution_count": 4,
   "metadata": {},
   "outputs": [
    {
     "data": {
      "text/plain": [
       "array([[1, 2, 3],\n",
       "       [3, 2, 1],\n",
       "       [1, 2, 3]])"
      ]
     },
     "execution_count": 4,
     "metadata": {},
     "output_type": "execute_result"
    }
   ],
   "source": [
    "a=np.array([[1,2,3],[3,2,1],[1,2,3]])\n",
    "a"
   ]
  },
  {
   "cell_type": "code",
   "execution_count": 5,
   "metadata": {},
   "outputs": [
    {
     "data": {
      "text/plain": [
       "array([[ 1., -1.,  1.],\n",
       "       [-1.,  1., -1.],\n",
       "       [ 1., -1.,  1.]])"
      ]
     },
     "execution_count": 5,
     "metadata": {},
     "output_type": "execute_result"
    }
   ],
   "source": [
    "s=np.cov(a)\n",
    "s"
   ]
  },
  {
   "cell_type": "code",
   "execution_count": 6,
   "metadata": {},
   "outputs": [
    {
     "name": "stdout",
     "output_type": "stream",
     "text": [
      "[ -2.22044605e-16   3.00000000e+00   0.00000000e+00]\n",
      "[[-0.81649658 -0.57735027  0.        ]\n",
      " [-0.40824829  0.57735027  0.70710678]\n",
      " [ 0.40824829 -0.57735027  0.70710678]]\n"
     ]
    }
   ],
   "source": [
    "eig_val_sc, eig_vec_sc = np.linalg.eig(s)\n",
    "print(eig_val_sc)\n",
    "print(eig_vec_sc)"
   ]
  },
  {
   "cell_type": "code",
   "execution_count": 8,
   "metadata": {},
   "outputs": [
    {
     "name": "stdout",
     "output_type": "stream",
     "text": [
      "[[-0.57735027 -0.57735027  0.57735027]\n",
      " [ 0.57735027  0.21132487  0.78867513]\n",
      " [-0.57735027  0.78867513  0.21132487]]\n",
      "[ 3.  0.  0.]\n",
      "[[-0.57735027  0.57735027 -0.57735027]\n",
      " [ 0.          0.70710678  0.70710678]\n",
      " [-0.81649658 -0.40824829  0.40824829]]\n"
     ]
    }
   ],
   "source": [
    "u,s_,v = np.linalg.svd(s)\n",
    "print(u)\n",
    "print(s_)\n",
    "print(v)"
   ]
  },
  {
   "cell_type": "code",
   "execution_count": 13,
   "metadata": {},
   "outputs": [
    {
     "data": {
      "text/plain": [
       "array([[-0.81649658],\n",
       "       [-0.40824829],\n",
       "       [ 0.40824829]])"
      ]
     },
     "execution_count": 13,
     "metadata": {},
     "output_type": "execute_result"
    }
   ],
   "source": [
    "eigvec_sc = eig_vec_sc[:,0].reshape(1,3).T\n",
    "eigvec_sc "
   ]
  },
  {
   "cell_type": "code",
   "execution_count": null,
   "metadata": {
    "collapsed": true
   },
   "outputs": [],
   "source": []
  }
 ],
 "metadata": {
  "kernelspec": {
   "display_name": "Python 3",
   "language": "python",
   "name": "python3"
  },
  "language_info": {
   "codemirror_mode": {
    "name": "ipython",
    "version": 3
   },
   "file_extension": ".py",
   "mimetype": "text/x-python",
   "name": "python",
   "nbconvert_exporter": "python",
   "pygments_lexer": "ipython3",
   "version": "3.5.2"
  }
 },
 "nbformat": 4,
 "nbformat_minor": 2
}
