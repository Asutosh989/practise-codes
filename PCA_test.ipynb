{
 "cells": [
  {
   "cell_type": "code",
   "execution_count": 1,
   "metadata": {
    "collapsed": true
   },
   "outputs": [],
   "source": [
    "import numpy\n",
    "\n",
    "def pca_function(data,k):\n",
    "    number_cols = len(data[0])   \n",
    "    number_rows = len(data)    \n",
    "    mean_of_matrix = []\n",
    "    for index_cols in range(0,number_cols):    \n",
    "        sumi = 0\n",
    "        for index_rows in range(0,number_rows):\n",
    "            sumi = sumi + data[index_rows][index_cols]\n",
    "        mean_of_matrix.append(sumi/number_rows)\n",
    "    \n",
    "\n",
    "    for index_cols in range(0,number_cols):\n",
    "        for index_rows in range(0,number_rows):\n",
    "            data[index_rows][index_cols] = data[index_rows][index_cols] - mean_of_matrix[index_cols]\n",
    "    #Correcto        \n",
    "    cov = covariances(data);     \n",
    "    eigen = eigenvectors(cov);    \n",
    "    eigen = sorted(eigen, key=lambda x: x[0])  \n",
    "    for index_ei in range(0,len(eigen)):\n",
    "        eigen[index_ei] = eigen[index_ei][1]\n",
    "\n",
    "    return eigen[:k]\n",
    "\n",
    "def covariances(data):\n",
    "    return numpy.cov(data)\n",
    "\n",
    "def eigenvectors(cov):\n",
    "    eigen_vv = []\n",
    "    eigenvectors = numpy.linalg.eig(cov)[1]\n",
    "    eigenvalues = numpy.linalg.eig(cov)[0]\n",
    "    for num_eigenvalues in range(0,len(eigenvalues)):\n",
    "        eigen_vv.append((eigenvalues[num_eigenvalues],list(eigenvectors[num_eigenvalues])))\n",
    "    return eigen_vv"
   ]
  },
  {
   "cell_type": "code",
   "execution_count": 4,
   "metadata": {},
   "outputs": [
    {
     "data": {
      "text/plain": [
       "array([[1, 2, 3],\n",
       "       [2, 3, 4],\n",
       "       [3, 4, 5],\n",
       "       [5, 6, 7]])"
      ]
     },
     "execution_count": 4,
     "metadata": {},
     "output_type": "execute_result"
    }
   ],
   "source": [
    "a=numpy.array([[1,2,3],[2,3,4],[3,4,5],[5,6,7]])\n",
    "a"
   ]
  },
  {
   "cell_type": "code",
   "execution_count": 5,
   "metadata": {},
   "outputs": [
    {
     "name": "stdout",
     "output_type": "stream",
     "text": [
      "[[1.0, 0.0, 0.0, 0.0], [0.0, 1.0, 0.0, 0.0]]\n"
     ]
    }
   ],
   "source": [
    "print(pca_function(a,2))"
   ]
  },
  {
   "cell_type": "code",
   "execution_count": 7,
   "metadata": {},
   "outputs": [
    {
     "data": {
      "text/plain": [
       "array([[ -2.16506351e+00,   1.50773774e-16],\n",
       "       [ -4.33012702e-01,  -1.16712263e-17],\n",
       "       [ -4.33012702e-01,  -1.16712263e-17],\n",
       "       [  3.03108891e+00,   1.04360917e-16]])"
      ]
     },
     "execution_count": 7,
     "metadata": {},
     "output_type": "execute_result"
    }
   ],
   "source": [
    "from sklearn.decomposition import PCA as sklearnPCA\n",
    "\n",
    "sklearn_pca = sklearnPCA(n_components=2)\n",
    "sklearn_transf = sklearn_pca.fit_transform(a)\n",
    "\n",
    "sklearn_transf"
   ]
  },
  {
   "cell_type": "code",
   "execution_count": null,
   "metadata": {
    "collapsed": true
   },
   "outputs": [],
   "source": []
  }
 ],
 "metadata": {
  "kernelspec": {
   "display_name": "Python 3",
   "language": "python",
   "name": "python3"
  },
  "language_info": {
   "codemirror_mode": {
    "name": "ipython",
    "version": 3
   },
   "file_extension": ".py",
   "mimetype": "text/x-python",
   "name": "python",
   "nbconvert_exporter": "python",
   "pygments_lexer": "ipython3",
   "version": "3.5.2"
  }
 },
 "nbformat": 4,
 "nbformat_minor": 2
}
