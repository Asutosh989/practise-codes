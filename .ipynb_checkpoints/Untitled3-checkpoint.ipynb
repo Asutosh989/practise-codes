{
 "cells": [
  {
   "cell_type": "code",
   "execution_count": 1,
   "metadata": {},
   "outputs": [
    {
     "name": "stdout",
     "output_type": "stream",
     "text": [
      "4 2\n"
     ]
    }
   ],
   "source": [
    "n,m=map(int,input().split())"
   ]
  },
  {
   "cell_type": "code",
   "execution_count": 6,
   "metadata": {},
   "outputs": [
    {
     "name": "stdout",
     "output_type": "stream",
     "text": [
      "1 2 3\n",
      "2 3 2\n",
      "1 4 5\n",
      "0\n"
     ]
    }
   ],
   "source": [
    "y=[]\n",
    "while True:\n",
    "    x = list(map(int, input().strip().split()))\n",
    "    y.append(x)\n",
    "    if(x[0]==0):\n",
    "        y.pop()\n",
    "        break"
   ]
  },
  {
   "cell_type": "code",
   "execution_count": 15,
   "metadata": {},
   "outputs": [
    {
     "name": "stdout",
     "output_type": "stream",
     "text": [
      "[[1, 2, 3], [2, 3, 2], [1, 4, 5]]\n"
     ]
    }
   ],
   "source": [
    "print(y)"
   ]
  },
  {
   "cell_type": "code",
   "execution_count": 11,
   "metadata": {},
   "outputs": [
    {
     "name": "stdout",
     "output_type": "stream",
     "text": [
      "0\n",
      "1\n",
      "2\n"
     ]
    }
   ],
   "source": [
    "tank_first=[]\n",
    "tank_sec=[]\n",
    "dist=[]\n",
    "\n",
    "for j in range(len(y)):\n",
    "    print(j)\n",
    "    print(y[j][0])\n",
    "    print(y[j][1])\n",
    "    print(y[j][2])\n",
    "    tank_first.append(y[j][0])\n",
    "    tank_sec.append(y[j][1])\n",
    "    dist.append(y[j][2])"
   ]
  },
  {
   "cell_type": "code",
   "execution_count": 14,
   "metadata": {},
   "outputs": [
    {
     "name": "stdout",
     "output_type": "stream",
     "text": [
      "[1, 2, 1]\n",
      "[2, 3, 4]\n",
      "[3, 2, 5]\n"
     ]
    }
   ],
   "source": [
    "print(tank_first)\n",
    "print(tank_sec)\n",
    "print(dist)"
   ]
  },
  {
   "cell_type": "code",
   "execution_count": null,
   "metadata": {
    "collapsed": true
   },
   "outputs": [],
   "source": []
  }
 ],
 "metadata": {
  "kernelspec": {
   "display_name": "Python 3",
   "language": "python",
   "name": "python3"
  },
  "language_info": {
   "codemirror_mode": {
    "name": "ipython",
    "version": 3
   },
   "file_extension": ".py",
   "mimetype": "text/x-python",
   "name": "python",
   "nbconvert_exporter": "python",
   "pygments_lexer": "ipython3",
   "version": "3.5.2"
  }
 },
 "nbformat": 4,
 "nbformat_minor": 2
}
